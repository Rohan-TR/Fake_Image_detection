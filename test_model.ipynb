{
 "cells": [
  {
   "cell_type": "code",
   "execution_count": 37,
   "metadata": {},
   "outputs": [],
   "source": [
    "from keras.models import load_model\n",
    "import cv2\n",
    "import numpy as np\n",
    "import os\n",
    "\n",
    "# Load the saved model\n",
    "model = load_model(\"our_model.h5\")\n",
    "\n",
    "\n",
    "# Example usage\n",
    "\n",
    "# Make predictions\n",
    "\n",
    "\n"
   ]
  },
  {
   "cell_type": "code",
   "execution_count": 38,
   "metadata": {},
   "outputs": [],
   "source": [
    "# Function for Error Level Analysis (ELA)\n",
    "def ela(image_path, scale=50):\n",
    "    original_image = cv2.imread(image_path)\n",
    "    resized_image = cv2.resize(original_image, (scale, scale))\n",
    "    cv2.imwrite(\"temp.jpg\", resized_image, [cv2.IMWRITE_JPEG_QUALITY, 90])\n",
    "    temp_image = cv2.imread(\"temp.jpg\")\n",
    "    ela_image = cv2.absdiff(resized_image, temp_image)\n",
    "    os.remove(\"temp.jpg\")\n",
    "    return ela_image\n"
   ]
  },
  {
   "cell_type": "code",
   "execution_count": 39,
   "metadata": {},
   "outputs": [],
   "source": [
    "\n",
    "# Function to preprocess a single image for prediction\n",
    "def preprocess_image(image_path):\n",
    "    ela_img = ela(image_path)\n",
    "    ela_img = ela_img.reshape((1,) + ela_img.shape)  # Add batch dimension\n",
    "    ela_img = ela_img / 255.0  # Normalize pixel values\n",
    "    return ela_img\n"
   ]
  },
  {
   "cell_type": "code",
   "execution_count": 40,
   "metadata": {},
   "outputs": [],
   "source": [
    "image_path_to_predict = \"D:/dataset_gat/archive/Dataset/Test/Fake/fake_34.jpg\"\n",
    "preprocessed_image = preprocess_image(image_path_to_predict)\n"
   ]
  },
  {
   "cell_type": "code",
   "execution_count": 41,
   "metadata": {},
   "outputs": [
    {
     "name": "stdout",
     "output_type": "stream",
     "text": [
      "WARNING:tensorflow:6 out of the last 6 calls to <function Model.make_predict_function.<locals>.predict_function at 0x000002C548D8B9C0> triggered tf.function retracing. Tracing is expensive and the excessive number of tracings could be due to (1) creating @tf.function repeatedly in a loop, (2) passing tensors with different shapes, (3) passing Python objects instead of tensors. For (1), please define your @tf.function outside of the loop. For (2), @tf.function has reduce_retracing=True option that can avoid unnecessary retracing. For (3), please refer to https://www.tensorflow.org/guide/function#controlling_retracing and https://www.tensorflow.org/api_docs/python/tf/function for  more details.\n",
      "1/1 [==============================] - 0s 299ms/step\n"
     ]
    }
   ],
   "source": [
    "predictions = model.predict(preprocessed_image)\n"
   ]
  },
  {
   "cell_type": "code",
   "execution_count": 42,
   "metadata": {},
   "outputs": [
    {
     "name": "stdout",
     "output_type": "stream",
     "text": [
      "The model predicts that the image is: FAKE\n"
     ]
    }
   ],
   "source": [
    "# Interpret predictions\n",
    "class_labels = [\"FAKE\",\"REAL\"]\n",
    "predicted_class_index = np.argmax(predictions)\n",
    "predicted_class = class_labels[predicted_class_index]\n",
    "\n",
    "print(f\"The model predicts that the image is: {predicted_class}\")"
   ]
  },
  {
   "cell_type": "code",
   "execution_count": 43,
   "metadata": {},
   "outputs": [],
   "source": []
  },
  {
   "cell_type": "code",
   "execution_count": null,
   "metadata": {},
   "outputs": [],
   "source": []
  },
  {
   "cell_type": "code",
   "execution_count": null,
   "metadata": {},
   "outputs": [],
   "source": []
  }
 ],
 "metadata": {
  "kernelspec": {
   "display_name": "Python 3",
   "language": "python",
   "name": "python3"
  },
  "language_info": {
   "codemirror_mode": {
    "name": "ipython",
    "version": 3
   },
   "file_extension": ".py",
   "mimetype": "text/x-python",
   "name": "python",
   "nbconvert_exporter": "python",
   "pygments_lexer": "ipython3",
   "version": "3.11.0"
  }
 },
 "nbformat": 4,
 "nbformat_minor": 2
}
