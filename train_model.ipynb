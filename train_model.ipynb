{
 "cells": [
  {
   "cell_type": "code",
   "execution_count": 32,
   "metadata": {},
   "outputs": [],
   "source": [
    "import os\n",
    "import cv2\n",
    "import numpy as np\n",
    "from keras.models import Sequential\n",
    "from keras.layers import Conv2D, MaxPooling2D, Flatten, Dense\n",
    "from sklearn.model_selection import train_test_split\n",
    "from sklearn.preprocessing import LabelEncoder\n",
    "from keras.utils import to_categorical\n",
    "\n"
   ]
  },
  {
   "cell_type": "code",
   "execution_count": 33,
   "metadata": {},
   "outputs": [],
   "source": [
    "def ela(image_path, scale=50):\n",
    "    original_image = cv2.imread(image_path)\n",
    "    resized_image = cv2.resize(original_image, (scale, scale))\n",
    "    cv2.imwrite(\"temp.jpg\", resized_image, [cv2.IMWRITE_JPEG_QUALITY, 90])\n",
    "    temp_image = cv2.imread(\"temp.jpg\")\n",
    "    ela_image = cv2.absdiff(resized_image, temp_image)\n",
    "    os.remove(\"temp.jpg\")\n",
    "    return ela_image\n"
   ]
  },
  {
   "cell_type": "code",
   "execution_count": 34,
   "metadata": {},
   "outputs": [],
   "source": [
    "def load_data(data_folder):\n",
    "    data = []\n",
    "    labels = []\n",
    "\n",
    "    for image_file in os.listdir(data_folder):\n",
    "        if image_file.endswith(\".jpg\"):\n",
    "            image_path = os.path.join(data_folder, image_file)\n",
    "            ela_img = ela(image_path)\n",
    "            data.append(ela_img)\n",
    "            labels.append(\"real\" if \"real\" in image_file else \"fake\")\n",
    "\n",
    "    le = LabelEncoder()\n",
    "    labels = le.fit_transform(labels)\n",
    "    labels = to_categorical(labels)\n",
    "\n",
    "    return np.array(data), np.array(labels)\n"
   ]
  },
  {
   "cell_type": "code",
   "execution_count": 35,
   "metadata": {},
   "outputs": [],
   "source": [
    "data_folder = \"D:/final_dataset\"\n",
    "data, labels = load_data(data_folder)"
   ]
  },
  {
   "cell_type": "code",
   "execution_count": 36,
   "metadata": {},
   "outputs": [],
   "source": [
    "X_train, X_test, y_train, y_test = train_test_split(data, labels, test_size=0.30, random_state=2)"
   ]
  },
  {
   "cell_type": "code",
   "execution_count": 37,
   "metadata": {},
   "outputs": [],
   "source": [
    "model = Sequential()\n",
    "model.add(Conv2D(32, (3, 3), activation='relu', input_shape=X_train.shape[1:]))\n",
    "model.add(MaxPooling2D(pool_size=(2, 2)))\n",
    "model.add(Flatten())\n",
    "model.add(Dense(128, activation='relu'))\n",
    "model.add(Dense(2, activation='softmax'))  # 2 classes: real and fake\n",
    "model.compile(optimizer='adam', loss='categorical_crossentropy', metrics=['accuracy'])\n",
    "\n"
   ]
  },
  {
   "cell_type": "code",
   "execution_count": 38,
   "metadata": {},
   "outputs": [
    {
     "name": "stdout",
     "output_type": "stream",
     "text": [
      "Epoch 1/30\n",
      "88/88 [==============================] - 5s 51ms/step - loss: 2.9877 - accuracy: 0.5518 - val_loss: 0.6720 - val_accuracy: 0.5892\n",
      "Epoch 2/30\n",
      "88/88 [==============================] - 5s 55ms/step - loss: 0.6380 - accuracy: 0.6332 - val_loss: 0.6515 - val_accuracy: 0.6275\n",
      "Epoch 3/30\n",
      "88/88 [==============================] - 4s 49ms/step - loss: 0.5502 - accuracy: 0.7486 - val_loss: 0.6346 - val_accuracy: 0.6425\n",
      "Epoch 4/30\n",
      "88/88 [==============================] - 4s 49ms/step - loss: 0.4385 - accuracy: 0.8257 - val_loss: 0.6281 - val_accuracy: 0.6475\n",
      "Epoch 5/30\n",
      "88/88 [==============================] - 4s 48ms/step - loss: 0.3042 - accuracy: 0.9046 - val_loss: 0.6728 - val_accuracy: 0.6442\n",
      "Epoch 6/30\n",
      "88/88 [==============================] - 4s 50ms/step - loss: 0.1796 - accuracy: 0.9643 - val_loss: 0.7691 - val_accuracy: 0.6608\n",
      "Epoch 7/30\n",
      "88/88 [==============================] - 5s 51ms/step - loss: 0.1169 - accuracy: 0.9829 - val_loss: 0.9044 - val_accuracy: 0.6325\n",
      "Epoch 8/30\n",
      "88/88 [==============================] - 4s 49ms/step - loss: 0.0584 - accuracy: 0.9968 - val_loss: 0.9322 - val_accuracy: 0.6500\n",
      "Epoch 9/30\n",
      "88/88 [==============================] - 4s 51ms/step - loss: 0.0353 - accuracy: 0.9986 - val_loss: 1.0282 - val_accuracy: 0.6617\n",
      "Epoch 10/30\n",
      "88/88 [==============================] - 4s 48ms/step - loss: 0.0225 - accuracy: 0.9996 - val_loss: 1.0897 - val_accuracy: 0.6483\n",
      "Epoch 11/30\n",
      "88/88 [==============================] - 5s 62ms/step - loss: 0.0142 - accuracy: 1.0000 - val_loss: 1.1586 - val_accuracy: 0.6483\n",
      "Epoch 12/30\n",
      "88/88 [==============================] - 5s 59ms/step - loss: 0.0106 - accuracy: 1.0000 - val_loss: 1.1996 - val_accuracy: 0.6450\n",
      "Epoch 13/30\n",
      "88/88 [==============================] - 4s 50ms/step - loss: 0.0078 - accuracy: 1.0000 - val_loss: 1.2488 - val_accuracy: 0.6542\n",
      "Epoch 14/30\n",
      "88/88 [==============================] - 4s 48ms/step - loss: 0.0063 - accuracy: 1.0000 - val_loss: 1.2905 - val_accuracy: 0.6525\n",
      "Epoch 15/30\n",
      "88/88 [==============================] - 5s 52ms/step - loss: 0.0050 - accuracy: 1.0000 - val_loss: 1.3372 - val_accuracy: 0.6525\n",
      "Epoch 16/30\n",
      "88/88 [==============================] - 4s 48ms/step - loss: 0.0041 - accuracy: 1.0000 - val_loss: 1.3751 - val_accuracy: 0.6517\n",
      "Epoch 17/30\n",
      "88/88 [==============================] - 4s 50ms/step - loss: 0.0033 - accuracy: 1.0000 - val_loss: 1.4123 - val_accuracy: 0.6525\n",
      "Epoch 18/30\n",
      "88/88 [==============================] - 4s 51ms/step - loss: 0.0029 - accuracy: 1.0000 - val_loss: 1.4347 - val_accuracy: 0.6517\n",
      "Epoch 19/30\n",
      "88/88 [==============================] - 5s 51ms/step - loss: 0.0025 - accuracy: 1.0000 - val_loss: 1.4774 - val_accuracy: 0.6458\n",
      "Epoch 20/30\n",
      "88/88 [==============================] - 5s 56ms/step - loss: 0.0021 - accuracy: 1.0000 - val_loss: 1.4958 - val_accuracy: 0.6558\n",
      "Epoch 21/30\n",
      "88/88 [==============================] - 4s 50ms/step - loss: 0.0018 - accuracy: 1.0000 - val_loss: 1.5270 - val_accuracy: 0.6525\n",
      "Epoch 22/30\n",
      "88/88 [==============================] - 4s 50ms/step - loss: 0.0016 - accuracy: 1.0000 - val_loss: 1.5525 - val_accuracy: 0.6533\n",
      "Epoch 23/30\n",
      "88/88 [==============================] - 4s 48ms/step - loss: 0.0014 - accuracy: 1.0000 - val_loss: 1.5779 - val_accuracy: 0.6517\n",
      "Epoch 24/30\n",
      "88/88 [==============================] - 5s 52ms/step - loss: 0.0013 - accuracy: 1.0000 - val_loss: 1.5991 - val_accuracy: 0.6525\n",
      "Epoch 25/30\n",
      "88/88 [==============================] - 4s 49ms/step - loss: 0.0011 - accuracy: 1.0000 - val_loss: 1.6223 - val_accuracy: 0.6525\n",
      "Epoch 26/30\n",
      "88/88 [==============================] - 4s 50ms/step - loss: 0.0010 - accuracy: 1.0000 - val_loss: 1.6416 - val_accuracy: 0.6508\n",
      "Epoch 27/30\n",
      "88/88 [==============================] - 4s 50ms/step - loss: 9.2610e-04 - accuracy: 1.0000 - val_loss: 1.6613 - val_accuracy: 0.6517\n",
      "Epoch 28/30\n",
      "88/88 [==============================] - 4s 51ms/step - loss: 8.5389e-04 - accuracy: 1.0000 - val_loss: 1.6914 - val_accuracy: 0.6492\n",
      "Epoch 29/30\n",
      "88/88 [==============================] - 5s 57ms/step - loss: 7.5643e-04 - accuracy: 1.0000 - val_loss: 1.7072 - val_accuracy: 0.6500\n",
      "Epoch 30/30\n",
      "88/88 [==============================] - 4s 50ms/step - loss: 6.7566e-04 - accuracy: 1.0000 - val_loss: 1.7201 - val_accuracy: 0.6483\n"
     ]
    },
    {
     "data": {
      "text/plain": [
       "<keras.src.callbacks.History at 0x1b881d23110>"
      ]
     },
     "execution_count": 38,
     "metadata": {},
     "output_type": "execute_result"
    }
   ],
   "source": [
    "# Train the model\n",
    "model.fit(X_train, y_train, epochs=30, batch_size=32, validation_data=(X_test, y_test))\n",
    "\n",
    "# Evaluate the model\n"
   ]
  },
  {
   "cell_type": "code",
   "execution_count": 39,
   "metadata": {},
   "outputs": [
    {
     "name": "stdout",
     "output_type": "stream",
     "text": [
      "38/38 [==============================] - 0s 9ms/step - loss: 1.7201 - accuracy: 0.6483\n",
      "Model Accuracy: 0.6483333110809326\n"
     ]
    }
   ],
   "source": [
    "\n",
    "accuracy = model.evaluate(X_test, y_test)[1]\n",
    "print(f\"Model Accuracy: {accuracy}\")\n"
   ]
  },
  {
   "cell_type": "code",
   "execution_count": 40,
   "metadata": {},
   "outputs": [
    {
     "name": "stderr",
     "output_type": "stream",
     "text": [
      "c:\\Users\\Rohan\\AppData\\Local\\Programs\\Python\\Python311\\Lib\\site-packages\\keras\\src\\engine\\training.py:3079: UserWarning: You are saving your model as an HDF5 file via `model.save()`. This file format is considered legacy. We recommend using instead the native Keras format, e.g. `model.save('my_model.keras')`.\n",
      "  saving_api.save_model(\n"
     ]
    }
   ],
   "source": [
    "model.save(\"our_model.h5\")"
   ]
  },
  {
   "cell_type": "code",
   "execution_count": null,
   "metadata": {},
   "outputs": [],
   "source": []
  },
  {
   "cell_type": "code",
   "execution_count": null,
   "metadata": {},
   "outputs": [],
   "source": []
  }
 ],
 "metadata": {
  "kernelspec": {
   "display_name": "Python 3 (ipykernel)",
   "language": "python",
   "name": "python3"
  },
  "language_info": {
   "codemirror_mode": {
    "name": "ipython",
    "version": 3
   },
   "file_extension": ".py",
   "mimetype": "text/x-python",
   "name": "python",
   "nbconvert_exporter": "python",
   "pygments_lexer": "ipython3",
   "version": "3.11.0"
  }
 },
 "nbformat": 4,
 "nbformat_minor": 2
}
